{
 "cells": [
  {
   "cell_type": "code",
   "execution_count": null,
   "metadata": {},
   "outputs": [],
   "source": [
    "\"\"\" github 연동 \"\"\"\n",
    "# !git clone https://github.com/ku-sungsukim/2025-LGElec-Day4.git ### colab 사용시"
   ]
  },
  {
   "cell_type": "markdown",
   "metadata": {},
   "source": [
    "## **0. 필요 패키지 불러오기**"
   ]
  },
  {
   "cell_type": "code",
   "execution_count": null,
   "metadata": {},
   "outputs": [],
   "source": [
    "\"\"\" 필요 패키지 설치 \"\"\"\n",
    "# !pip install pmdarima"
   ]
  },
  {
   "cell_type": "code",
   "execution_count": null,
   "metadata": {},
   "outputs": [],
   "source": [
    "\"\"\" 데이터 전처리 관련 패키지 \"\"\"\n",
    "import datetime\n",
    "import numpy as np\n",
    "import pandas as pd\n",
    "from sklearn.model_selection import train_test_split\n",
    "\n",
    "\n",
    "\"\"\" 기계학습 모델 구축 및 평가 패키지 \"\"\"\n",
    "import itertools\n",
    "import statsmodels.api as sm\n",
    "from statsmodels.tsa.arima.model import ARIMA\n",
    "from statsmodels.tsa.statespace.sarimax import SARIMAX \n",
    "from pmdarima.arima import auto_arima\n",
    "from prophet import Prophet\n",
    "from sklearn.metrics import mean_squared_error, mean_absolute_error, r2_score\n",
    "\n",
    "def mean_absolute_percentage_error(y_true, y_pred):\n",
    "    y_true, y_pred = np.array(y_true).reshape(-1), np.array(y_pred).reshape(-1)\n",
    "    return np.mean(np.abs((y_true-y_pred)/y_true)) * 100\n",
    "\n",
    "\n",
    "\"\"\" 데이터 시각화 패키지 \"\"\"\n",
    "import matplotlib.pyplot as plt\n",
    "%matplotlib inline\n",
    "\n",
    "\n",
    "\"\"\" 경고 숨기기 \"\"\"\n",
    "import warnings\n",
    "warnings.filterwarnings(action='ignore')"
   ]
  },
  {
   "cell_type": "markdown",
   "metadata": {},
   "source": [
    "## **1. 데이터 불러오기 및 전처리**\n",
    " - 분석데이터: 위스콘신주 취업건수 데이터 (월별 고용자수 예측)"
   ]
  },
  {
   "cell_type": "markdown",
   "metadata": {},
   "source": [
    "#### **1-1. 데이터 개요 파악 및 전처리**"
   ]
  },
  {
   "cell_type": "code",
   "execution_count": null,
   "metadata": {},
   "outputs": [],
   "source": [
    "\"\"\" 데이터 불러오기 \"\"\"\n",
    "\n",
    "\"\"\"\n",
    "데이터 개요\n",
    " - 관측치 개수: 178개\n",
    " - 변수 개수: 2개\n",
    " \n",
    "주요 변수 정보\n",
    " - month: 일자\n",
    " - employment: 고용자수\n",
    "\"\"\"\n",
    "\n",
    "\"\"\"\n",
    "Q1. 데이터를 pandas 패키지를 활용하여 불러올 것\n",
    " - 로컬 경로: data/Employment.csv\n",
    " - colab 경로: /content/2025-LGElec-Day4/data/Employment.csv\n",
    "\"\"\"\n",
    "\n",
    "data = pd.'''Answer''' \n",
    "\n",
    "data"
   ]
  },
  {
   "cell_type": "code",
   "execution_count": null,
   "metadata": {},
   "outputs": [],
   "source": [
    "\"\"\" 간단한 전처리 \"\"\"\n",
    "\n",
    "\"\"\"\n",
    "Q1. month변수의 데이터 타입을 datetime으로 변경\n",
    "Q2. month변수를 index로 지정\n",
    "\"\"\"\n",
    "\n",
    "data['month'] = pd.'''Answer''' ### datetime 형변환\n",
    "data = '''Answer''' ### month 변수를 index로 지정"
   ]
  },
  {
   "cell_type": "markdown",
   "metadata": {},
   "source": [
    "#### **1-2. 탐색적 데이터 분석**"
   ]
  },
  {
   "cell_type": "code",
   "execution_count": null,
   "metadata": {},
   "outputs": [],
   "source": [
    "\"\"\" 탐색적 데이터 분석: 데이터 시각화를 통해 시계열 형태 확인 \"\"\"\n",
    "\n",
    "\"\"\"\n",
    "Q1. 시간에 따른 employment 변수 흐름 시각화\n",
    " - x축 및 y축 눈금의 폰트크기 모두 13으로 지정\n",
    " - Figure 제목은 Employment Data, 폰트크기는 17로 지정\n",
    " - x축 및 y축 레이블의 폰트크기는 모두 15로 지정하며, 레이블 이름은 각각 Year와 Employment로 지정\n",
    "\"\"\"\n",
    "\n",
    "data.'''Answer''' ### 시각화\n",
    "\n",
    "plt.'''Answer''' ### x축 눈금 크기 지정\n",
    "plt.'''Answer''' ### y축 눈금 크기 지정\n",
    "\n",
    "plt.'''Answer''' ### title 지정\n",
    "plt.'''Answer''' ### x축 레이블 지정\n",
    "plt.'''Answer''' ### y축 레이블 지정\n",
    "plt.tight_layout()\n",
    "plt.show()"
   ]
  },
  {
   "cell_type": "code",
   "execution_count": null,
   "metadata": {},
   "outputs": [],
   "source": [
    "\"\"\" 탐색적 데이터 분석: 시계열 분해 \"\"\"\n",
    "\n",
    "\"\"\"\n",
    "Q1. 시계열 데이터를 [추세(Trend)변동 + 계절(Seasonal)변동 + 우연(Random)변동]으로 분해할 것\n",
    "\"\"\"\n",
    "\n",
    "decomposition = '''Answer''' ### decomposition 정의\n",
    "\n",
    "fig = decomposition.'''Answer''' ### 시계열 분해 그림 시각화\n",
    "fig.set_size_inches(15, 6) ### figure 크기 정의\n",
    "plt.show()"
   ]
  },
  {
   "cell_type": "markdown",
   "metadata": {},
   "source": [
    "#### **1-3. 학습/평가 데이터 분할**"
   ]
  },
  {
   "cell_type": "code",
   "execution_count": null,
   "metadata": {},
   "outputs": [],
   "source": [
    "\"\"\" 학습/평가데이터 분할 \"\"\"\n",
    "\n",
    "\"\"\"\n",
    "Q1. 학습데이터와 평가데이터를 8:2로 구분할 것\n",
    " - 이때, sklearn의 train_test_split함수를 활용할 것\n",
    "\"\"\"\n",
    "\n",
    "train, test = '''Answer'''\n",
    "train.shape, test.shape"
   ]
  },
  {
   "cell_type": "markdown",
   "metadata": {},
   "source": [
    "## **2. 모델링**"
   ]
  },
  {
   "cell_type": "markdown",
   "metadata": {},
   "source": [
    "#### **2-1. ARIMA**"
   ]
  },
  {
   "cell_type": "code",
   "execution_count": null,
   "metadata": {},
   "outputs": [],
   "source": [
    "\"\"\" 정상성 확인 \"\"\"\n",
    "\n",
    "\"\"\"\n",
    "Q1. ACF 및 PACF 그래프를 시각화\n",
    " - 두 그래프 모두 lag는 30으로 그릴 것\n",
    "\"\"\"\n",
    "\n",
    "fig, ax = plt.subplots(1, 2, figsize=(15, 6))\n",
    "fig.suptitle('Raw Data') ### Figure 제목 지정\n",
    "sm.graphics.tsa.'''Answer''' ### ACF 시각화\n",
    "sm.graphics.tsa.'''Answer'''; ### PACF 시각화"
   ]
  },
  {
   "cell_type": "code",
   "execution_count": null,
   "metadata": {},
   "outputs": [],
   "source": [
    "\"\"\" 차분수행 \"\"\"\n",
    "\n",
    "\"\"\"\n",
    "Q1. employment변수에 대하여 1차차분 수행\n",
    " - 이때, 발생하는 결측행들도 함께 제거\n",
    "\"\"\"\n",
    "\n",
    "diff_train = train['employment'].'''Answer''' ### 차분 수행\n",
    "diff_train = '''Answer''' ### 결측행 제거\n",
    "\n",
    "print('####### Raw Data #######')\n",
    "print(train)\n",
    "print('### Differenced Data ###')\n",
    "print(diff_train)"
   ]
  },
  {
   "cell_type": "code",
   "execution_count": null,
   "metadata": {},
   "outputs": [],
   "source": [
    "\"\"\" 그래프로 차분 전/후 비교 \"\"\"\n",
    "\n",
    "\"\"\"\n",
    "Q1. 1차차분 전/후 비교 그래프 시각화\n",
    " - 색깔은 각각 red, blue로 지정\n",
    " - 범례를 설정할 것 (차분 전: Raw Data (Nonstationary) // 차분 후: Differenced Data (Stationary))\n",
    "   * 위치는 좌상단\n",
    "\"\"\"\n",
    "\n",
    "plt.figure(figsize=(15, 6))\n",
    "\n",
    "plt.subplot(211)\n",
    "plt.'''Answer''' ### 차분 전 시각화\n",
    "plt.'''Answer''' ### 차분 전 범례\n",
    "\n",
    "plt.subplot(212)\n",
    "plt.'''Answer''' ### 차분 후 시각화\n",
    "plt.'''Answer''' ### 차분 후 범례\n",
    "\n",
    "plt.show()"
   ]
  },
  {
   "cell_type": "code",
   "execution_count": null,
   "metadata": {},
   "outputs": [],
   "source": [
    "\"\"\" 차분 후 정상성 파악 \"\"\"\n",
    "\n",
    "\"\"\"\n",
    "Q1. 차분 후 데이터에 대하여 ACF 및 PACF 그래프를 시각화\n",
    " - 두 그래프 모두 lag는 30으로 그릴 것\n",
    "\"\"\"\n",
    "\n",
    "fig, ax = plt.subplots(1, 2, figsize=(15, 6))\n",
    "fig.suptitle('Differenced Data') ### Figure 제목 지정\n",
    "sm.graphics.tsa.'''Answer''' ### ACF 시각화\n",
    "sm.graphics.tsa.'''Answer'''; ### PACF 시각화"
   ]
  },
  {
   "cell_type": "code",
   "execution_count": null,
   "metadata": {},
   "outputs": [],
   "source": [
    "\"\"\" ARIMA 파라미터 탐색 범위 설정 \"\"\"\n",
    "\n",
    "\"\"\"\n",
    "Q1. itertools 패키지를 활용하여 ARIMA (p, d, q)의 파라미터 범위를 지정할 것\n",
    " - p: 0, 1, 2\n",
    " - d: 1\n",
    " - q: 0, 1, 2\n",
    "\"\"\"\n",
    "\n",
    "p = '''Answer''' ### p의 범위\n",
    "d = '''Answer''' ### d의 범위\n",
    "q = '''Answer''' ### q의 범위\n",
    "pdq = '''Answer''' ### 모든 Combination 고려"
   ]
  },
  {
   "cell_type": "code",
   "execution_count": null,
   "metadata": {},
   "outputs": [],
   "source": [
    "\"\"\" ARIMA 파라미터 탐색 \"\"\"\n",
    "\n",
    "\"\"\"\n",
    "Q1. AIC를 기준으로 최적 ARIMA 파라미터 식별\n",
    " - AIC는 작을수록 좋은 지표\n",
    " - AIC는 소수 둘째자리까지 반올림\n",
    "\"\"\"\n",
    "\n",
    "aic=[]\n",
    "for i in pdq:\n",
    "    model = '''Answer''' ### 모델 정의\n",
    "    ARIMA_model_fit = model.'''Answer''' ### 모델 피팅\n",
    "    print(f'ARIMA: {i} >> AIC : {'''Answer'''}')\n",
    "    aic.append('''Answer''')"
   ]
  },
  {
   "cell_type": "code",
   "execution_count": null,
   "metadata": {},
   "outputs": [],
   "source": [
    "\"\"\" 최소 AIC를 만족하는 (p, d, q) 식별 \"\"\"\n",
    "\n",
    "\"\"\"\n",
    "Q1. 모든 parameter 범위 중, 최소 AIC를 만족하는 (p, d, q) 찾기\n",
    "\"\"\"\n",
    "\n",
    "ARIMA_optimal = [(pdq[i], j) for i, j in enumerate(aic) if '''Answer'''] \n",
    "ARIMA_optimal_pdq = ARIMA_optimal[0][0]\n",
    "ARIMA_optimal_pdq"
   ]
  },
  {
   "cell_type": "code",
   "execution_count": null,
   "metadata": {},
   "outputs": [],
   "source": [
    "\"\"\" 최적 (p, d, q)로 ARIMA 학습 \"\"\"\n",
    "\n",
    "\"\"\"\n",
    "Q1. 위에서 도출한 최적 (p, d, q)로 ARIMA 모델 학습\n",
    "\"\"\"\n",
    "\n",
    "ARIMA_model_opt = '''Answer'''\n",
    "ARIMA_model_opt_fit = ARIMA_model_opt.'''Answer'''\n",
    "\n",
    "ARIMA_model_opt_fit.summary()"
   ]
  },
  {
   "cell_type": "code",
   "execution_count": null,
   "metadata": {},
   "outputs": [],
   "source": [
    "\"\"\" ARIMA 모델 Test 기간 예측 \"\"\"\n",
    "\n",
    "\"\"\"\n",
    "Q1. ARIMA 모델을 활용하여 Test기간만큼 예측\n",
    "\"\"\"\n",
    "\n",
    "ARIMA_prediction = ARIMA_model_opt_fit.'''Answer''' ### 예측모형 수립\n",
    "ARIMA_test_pred = ARIMA_prediction.'''Answer''' ### 예측값 산출\n",
    "ARIMA_test_pred"
   ]
  },
  {
   "cell_type": "code",
   "execution_count": null,
   "metadata": {},
   "outputs": [],
   "source": [
    "\"\"\" ARIMA 모델 평가 \"\"\"\n",
    "\n",
    "\"\"\"\n",
    "Q1. ARIMA 모델의 성능 평가\n",
    " - MSE, RMSE, MAE, MAPE, R2score를 모두 산출할 것\n",
    "\"\"\"\n",
    "\n",
    "print(f'MSE: {np.round('''Answer'''(test, ARIMA_test_pred), 2)}')\n",
    "print(f'RMSE: {np.round(np.sqrt('''Answer'''(test,ARIMA_test_pred)), 2)}')\n",
    "print(f'MAE: {np.round('''Answer'''(test, ARIMA_test_pred), 2)}')\n",
    "print(f'MAPE: {np.round('''Answer'''(test, ARIMA_test_pred), 2)}')\n",
    "print(f'R2 score: {np.round('''Answer'''(test, ARIMA_test_pred), 2)}')"
   ]
  },
  {
   "cell_type": "code",
   "execution_count": null,
   "metadata": {},
   "outputs": [],
   "source": [
    "\"\"\" ARIMA 예측 결과 시각화 \"\"\"\n",
    "\n",
    "\"\"\"\n",
    "Q1. 기존 값과 ARIMA의 예측값을 함께 시각화\n",
    " - 기존값 및 예측값의 레이블: Employment, Prediction\n",
    " - train/test가 나뉘는 시점을 빨간 수직 점선으로 표시할 것 (레이블: Start of Forecast)\n",
    "   * 수직선 y범위: 200~450 / train 및 test 분기점: 1972-11-01\n",
    " - 실제값 / 예측값 / train, test 분기점에 대해 범례를 설정할 것 (위치: 좌상단)\n",
    "\"\"\"\n",
    "\n",
    "fig, ax = plt.subplots(figsize=(15, 6))\n",
    "ax.plot('''Answer''') \n",
    "ax.plot('''Answer''') \n",
    "\n",
    "ax.vlines('''Answer''') \n",
    "ax.legend('''Answer''') \n",
    "plt.suptitle(f'ARIMA {ARIMA_optimal_pdq} Prediction Results (r2_score: {np.round(r2_score(test, ARIMA_test_pred), 2)})') \n",
    "plt.show()"
   ]
  },
  {
   "cell_type": "markdown",
   "metadata": {},
   "source": [
    "#### **2-2. SARIMA**"
   ]
  },
  {
   "cell_type": "code",
   "execution_count": null,
   "metadata": {},
   "outputs": [],
   "source": [
    "\"\"\" SARIMA 파라미터 탐색 범위 설정 \"\"\"\n",
    "\n",
    "\"\"\"\n",
    "Q1. itertools 패키지를 활용하여 SARIMA (p, d, q) 및 (P, D, Q)의 파라미터 범위를 지정할 것\n",
    " - p: 0, 1, 2\n",
    " - d: 1\n",
    " - q: 0, 1, 2\n",
    " - P: 0, 1, 2\n",
    " - D: 1\n",
    " - Q: 0, 1, 2\n",
    " - s: 12(고정)\n",
    "\"\"\"\n",
    "\n",
    "p = '''Answer''' ### p, P범위 지정\n",
    "d = '''Answer''' ### d, D범위 지정\n",
    "q = '''Answer''' ### q, Q범위 지정\n",
    "pdq = '''Answer'''\n",
    "seasonal_pdq = '''Answer''' ### (P, D, Q) Combination 설정"
   ]
  },
  {
   "cell_type": "code",
   "execution_count": null,
   "metadata": {},
   "outputs": [],
   "source": [
    "\"\"\" SARIMA 파라미터 탐색 \"\"\"\n",
    "\n",
    "\"\"\"\n",
    "Q1. AIC를 기준으로 최적 SARIMA 파라미터 식별 (AIC는 소수 둘째자리에서 반올림)\n",
    " - AIC는 작을수록 좋은 지표\n",
    "\"\"\"\n",
    "\n",
    "aic = []\n",
    "params = []\n",
    "for i in pdq:\n",
    "    for j in seasonal_pdq:\n",
    "        try:\n",
    "            model = '''Answer'''\n",
    "            model_fit = model.'''Answer'''\n",
    "            print(f'SARIMA: {i}{j} >> AIC : {'''Answer'''}')\n",
    "            aic.append('''Answer''')\n",
    "            params.append((i, j))  \n",
    "        except:\n",
    "            continue"
   ]
  },
  {
   "cell_type": "code",
   "execution_count": null,
   "metadata": {},
   "outputs": [],
   "source": [
    "\"\"\" 최소 AIC를 만족하는 (p, d, q) 식별 \"\"\"\n",
    "\n",
    "\"\"\"\n",
    "Q1. 모든 parameter 범위 중, 최소 AIC를 만족하는 (p, d, q) 및 (P, D, Q) 찾기\n",
    "\"\"\"\n",
    "\n",
    "SARIMA_optimal = [(params[i], j) for i, j in enumerate(aic) if '''Answer'''] \n",
    "\n",
    "SARIMA_optimal_pdq = SARIMA_optimal[0][0][0] \n",
    "SARIMA_optimal_seasonal_pdq = SARIMA_optimal[0][0][1] \n",
    "SARIMA_optimal_AIC = SARIMA_optimal[0][1] \n",
    "print(f'Optimal (p, d, q): {SARIMA_optimal_pdq}')\n",
    "print(f'Optimal Seasonal (P, D, Q): {SARIMA_optimal_seasonal_pdq}')\n",
    "print(f'Optimal AIC: {SARIMA_optimal_AIC}')"
   ]
  },
  {
   "cell_type": "code",
   "execution_count": null,
   "metadata": {},
   "outputs": [],
   "source": [
    "\"\"\" 최적 파라미터로 SARIMA 학습 \"\"\"\n",
    "\n",
    "\"\"\"\n",
    "Q1. 위에서 도출한 최적 (p, d, q) 및 (P, D, Q)로 SARIMA 모델 학습\n",
    "\"\"\"\n",
    "\n",
    "SARIMA_model_opt = '''Answer'''\n",
    "SARIMA_model_opt_fit = SARIMA_model_opt.fit()\n",
    "\n",
    "SARIMA_model_opt_fit.summary()"
   ]
  },
  {
   "cell_type": "code",
   "execution_count": null,
   "metadata": {},
   "outputs": [],
   "source": [
    "\"\"\" SARIMA 모델 Test 기간 예측 \"\"\"\n",
    "\n",
    "\"\"\"\n",
    "Q1. ARIMA 모델을 활용하여 Test기간만큼 예측\n",
    "\"\"\"\n",
    "\n",
    "SARIMA_prediction = SARIMA_model_opt_fit.'''Answer''' ### SARIMA 예측모형 수립\n",
    "SARIMA_test_pred = SARIMA_prediction.'''Answer''' ### 예측값 산출\n",
    "SARIMA_test_pred"
   ]
  },
  {
   "cell_type": "code",
   "execution_count": null,
   "metadata": {},
   "outputs": [],
   "source": [
    "\"\"\" SARIMA 모델 평가 \"\"\"\n",
    "\n",
    "\"\"\"\n",
    "Q1. SARIMA 모델의 성능 평가\n",
    " - MSE, RMSE, MAE, MAPE, R2score를 모두 산출할 것\n",
    "\"\"\"\n",
    "\n",
    "print(f'MSE: {np.round('''Answer'''(test, SARIMA_test_pred), 2)}')\n",
    "print(f'RMSE: {np.round(np.sqrt('''Answer'''(test,SARIMA_test_pred)), 2)}')\n",
    "print(f'MAE: {np.round('''Answer'''(test, SARIMA_test_pred), 2)}')\n",
    "print(f'MAPE: {np.round('''Answer'''(test, SARIMA_test_pred), 2)}')\n",
    "print(f'R2 score: {np.round('''Answer'''(test, SARIMA_test_pred), 2)}')"
   ]
  },
  {
   "cell_type": "code",
   "execution_count": null,
   "metadata": {},
   "outputs": [],
   "source": [
    "\"\"\" SARIMA 예측 결과 시각화 \"\"\"\n",
    "\n",
    "\"\"\"\n",
    "Q1. 기존 값과 SARIMA의 예측값을 함께 시각화\n",
    " - 기존값 및 예측값의 레이블: Employment, Prediction\n",
    " - train/test가 나뉘는 시점을 빨간 수직 점선으로 표시할 것 (레이블: Start of Forecast)\n",
    "   * 수직선 y범위: 200~450 / train 및 test 분기점: 1972-11-01\n",
    " - 실제값 / 예측값 / train 및 test분기점에 대해 범례를 설정할 것 (위치: 좌상단)\n",
    "\"\"\"\n",
    "\n",
    "fig, ax = plt.subplots(figsize=(15, 6))\n",
    "ax.plot('''Answer''') \n",
    "ax.plot('''Answer''') \n",
    "\n",
    "ax.vlines('''Answer''') \n",
    "ax.legend('''Answer''')\n",
    "plt.suptitle(f'SARIMA {SARIMA_optimal_pdq},{SARIMA_optimal_seasonal_pdq} Prediction Results (r2_score: {np.round(r2_score(test, SARIMA_test_pred), 2)})') \n",
    "plt.show()"
   ]
  },
  {
   "cell_type": "markdown",
   "metadata": {},
   "source": [
    "#### **2.3 AUTO ARIMA & SARIMA (Simple Version)**"
   ]
  },
  {
   "cell_type": "code",
   "execution_count": null,
   "metadata": {},
   "outputs": [],
   "source": [
    "\"\"\" Auto ARIMA 또는 SARIMA 모델링 \"\"\"\n",
    "\n",
    "\"\"\"\n",
    "Q1. auto_arima 패키지를 활용하여 SARIMA 모델을 적합할 것\n",
    " - p: 0, 1, 2\n",
    " - d: 1\n",
    " - q: 0, 1, 2\n",
    " - P: 0, 1, 2\n",
    " - D: 1\n",
    " - Q: 0, 1, 2\n",
    " - s: 12(고정)\n",
    "\"\"\"\n",
    "\n",
    "SARIMA2 = auto_arima('''Answer''' ,\n",
    "                     trace=True,\n",
    "                     error_action='ignore',  \n",
    "                     suppress_warnings=True)\n",
    "\n",
    "SARIMA2.summary()"
   ]
  },
  {
   "cell_type": "code",
   "execution_count": null,
   "metadata": {},
   "outputs": [],
   "source": [
    "\"\"\" SARIMA2 모델 Test기간 예측 \"\"\"\n",
    "\n",
    "\"\"\"\n",
    "Q1. auto_arima 패키지로 적합된 SARIMA 모델을 활용하여 Test기간만큼 예측\n",
    "\"\"\"\n",
    "\n",
    "SARIMA2_test_pred = SARIMA2.'''Answer'''\n",
    "SARIMA2_test_pred "
   ]
  },
  {
   "cell_type": "code",
   "execution_count": null,
   "metadata": {},
   "outputs": [],
   "source": [
    "\"\"\" SARIMA 모델 평가 \"\"\"\n",
    "\n",
    "\"\"\"\n",
    "Q1. SARIMA 모델의 성능 평가\n",
    " - MSE, RMSE, MAE, MAPE, R2score를 모두 산출할 것\n",
    "\"\"\"\n",
    "\n",
    "print(f'MSE: {np.round('''Answer'''(test, SARIMA2_test_pred), 2)}')\n",
    "print(f'RMSE: {np.round(np.sqrt('''Answer'''(test,SARIMA2_test_pred)), 2)}')\n",
    "print(f'MAE: {np.round('''Answer'''(test, SARIMA2_test_pred), 2)}')\n",
    "print(f'MAPE: {np.round('''Answer'''(test, ARIMA_test_pred), 2)}')\n",
    "print(f'R2 score: {np.round('''Answer'''(test, SARIMA2_test_pred), 2)}')"
   ]
  },
  {
   "cell_type": "code",
   "execution_count": null,
   "metadata": {},
   "outputs": [],
   "source": [
    "\"\"\" SARIMA 예측 결과 시각화 \"\"\"\n",
    "\n",
    "\"\"\"\n",
    "Q1. 기존 값과 SARIMA의 예측값을 함께 시각화\n",
    " - 기존값 및 예측값의 레이블: Employment, Prediction\n",
    " - train/test가 나뉘는 시점을 빨간 수직 점선으로 표시할 것 (레이블: Start of Forecast)\n",
    "   * 수직선 y범위: 200~450 / train 및 test 분기점: 1972-11-01\n",
    " - 실제값 / 예측값 / train 및 test 분기점에 대해 범례를 설정할 것 (위치: 좌상단)\n",
    "\"\"\"\n",
    "\n",
    "fig, ax = plt.subplots(figsize=(15, 6))\n",
    "ax.plot('''Answer''') \n",
    "ax.plot('''Answer''') \n",
    "\n",
    "ax.vlines('''Answer''') \n",
    "ax.legend('''Answer''')\n",
    "plt.suptitle(f'SARIMA {SARIMA2.order},{SARIMA2.seasonal_order} Prediction Results (r2_score: {np.round(r2_score(test, SARIMA2_test_pred), 2)})') \n",
    "plt.show()"
   ]
  },
  {
   "cell_type": "markdown",
   "metadata": {},
   "source": [
    "#### **2-4. Prophet**"
   ]
  },
  {
   "cell_type": "code",
   "execution_count": null,
   "metadata": {},
   "outputs": [],
   "source": [
    "\"\"\" Prophet 모델링을 위한 간단한 전처리 \"\"\"\n",
    "\n",
    "\"\"\"\n",
    "Q1. train 및 test 데이터 모두 index를 0, 1, 2... 등 원래 index로 변경 & 기존 Timestep Index는 변수로 변경\n",
    "Q2. timestep, employment 변수명을 각각 ds, y로 변경\n",
    "\"\"\"\n",
    "\n",
    "train_prophet = train.'''Answer'''\n",
    "train_prophet.columns = '''Answer'''\n",
    "\n",
    "test_prophet = test.'''Answer'''\n",
    "test_prophet.columns = '''Answer'''\n",
    "train_prophet.head()"
   ]
  },
  {
   "cell_type": "code",
   "execution_count": null,
   "metadata": {},
   "outputs": [],
   "source": [
    "\"\"\" Prophet 모델 적합 \"\"\"\n",
    "\n",
    "\"\"\"\n",
    "Q1. Prophet 모델을 학습\n",
    "\"\"\"\n",
    "\n",
    "Prophet_model = '''Answer'''\n",
    "Prophet_model.'''Answer'''"
   ]
  },
  {
   "cell_type": "code",
   "execution_count": null,
   "metadata": {},
   "outputs": [],
   "source": [
    "\"\"\" Prophet Test 기간 예측 \"\"\"\n",
    "\n",
    "\"\"\"\n",
    "Q1. Prophet 모델을 Test 기간만큼 예측 한 후, 예측값 확인\n",
    "\"\"\"\n",
    "\n",
    "Prophet_test_data_index = test_prophet[['ds']]  \n",
    "Prophet_test_pred = Prophet_model.'''Answer'''\n",
    "Prophet_test_pred = Prophet_test_pred['''Answer'''].values\n",
    "Prophet_test_pred"
   ]
  },
  {
   "cell_type": "code",
   "execution_count": null,
   "metadata": {},
   "outputs": [],
   "source": [
    "\"\"\" Prophet 평가 \"\"\"\n",
    "\n",
    "\"\"\"\n",
    "Q1. Prophet 모델의 성능 평가\n",
    " - MSE, RMSE, MAE, MAPE, R2score를 모두 산출할 것\n",
    "\"\"\"\n",
    "\n",
    "print(f'MSE: {np.round('''Answer'''(test, Prophet_test_pred), 2)}')\n",
    "print(f'RMSE: {np.round(np.sqrt('''Answer'''(test, Prophet_test_pred)), 2)}')\n",
    "print(f'MAE: {np.round('''Answer'''(test, Prophet_test_pred), 2)}')\n",
    "print(f'MAPE: {np.round('''Answer'''(test, Prophet_test_pred), 2)}')\n",
    "print(f'R2 score: {np.round('''Answer'''(test, Prophet_test_pred), 2)}')"
   ]
  },
  {
   "cell_type": "code",
   "execution_count": null,
   "metadata": {},
   "outputs": [],
   "source": [
    "\"\"\" Prophet 시각화 \"\"\"\n",
    "\n",
    "\"\"\"\n",
    "Q1. 기존 값과 Prohphet의 예측값을 함께 시각화\n",
    " - 기존값 및 예측값의 레이블: Employment, Prediction\n",
    " - train/test가 나뉘는 시점을 빨간 수직 점선으로 표시할 것 (레이블: Start of Forecast)\n",
    "   * 수직선 y범위: 200~450 / train 및 test 분기점: 1972-11-01\n",
    " - 실제값 / 예측값 / train 및 test 분기점에 대해 범례를 설정할 것 (위치: 좌상단)\n",
    "\"\"\"\n",
    "\n",
    "fig, ax = plt.subplots(figsize=(15, 6))\n",
    "ax.plot('''Answer''') \n",
    "ax.plot('''Answer''') \n",
    "\n",
    "ax.vlines('''Answer''') \n",
    "ax.legend('''Answer''') \n",
    "plt.title(f'Prophet Prediction Results (r2_score: {np.round(r2_score(test, Prophet_test_pred), 2)})')\n",
    "plt.show()"
   ]
  },
  {
   "cell_type": "markdown",
   "metadata": {},
   "source": [
    "# **EOD**"
   ]
  }
 ],
 "metadata": {
  "kernelspec": {
   "display_name": "Python 3",
   "language": "python",
   "name": "python3"
  },
  "language_info": {
   "codemirror_mode": {
    "name": "ipython",
    "version": 3
   },
   "file_extension": ".py",
   "mimetype": "text/x-python",
   "name": "python",
   "nbconvert_exporter": "python",
   "pygments_lexer": "ipython3",
   "version": "3.8.10"
  },
  "toc": {
   "base_numbering": 1,
   "nav_menu": {},
   "number_sections": true,
   "sideBar": true,
   "skip_h1_title": false,
   "title_cell": "Table of Contents",
   "title_sidebar": "Contents",
   "toc_cell": false,
   "toc_position": {
    "height": "calc(100% - 180px)",
    "left": "10px",
    "top": "150px",
    "width": "307.2px"
   },
   "toc_section_display": true,
   "toc_window_display": true
  },
  "vscode": {
   "interpreter": {
    "hash": "e7370f93d1d0cde622a1f8e1c04877d8463912d04d973331ad4851f04de6915a"
   }
  }
 },
 "nbformat": 4,
 "nbformat_minor": 2
}
