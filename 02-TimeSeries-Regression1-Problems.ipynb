{
 "cells": [
  {
   "cell_type": "code",
   "execution_count": null,
   "metadata": {},
   "outputs": [],
   "source": [
    "\"\"\" github 연동 \"\"\"\n",
    "# !git clone https://github.com/ku-sungsukim/2025-LGElec-Day4.git ### colab 사용시"
   ]
  },
  {
   "cell_type": "markdown",
   "metadata": {},
   "source": [
    "## **0. 필요 패키지 불러오기**"
   ]
  },
  {
   "cell_type": "code",
   "execution_count": null,
   "metadata": {},
   "outputs": [],
   "source": [
    "\"\"\" 데이터 전처리 관련 패키지 \"\"\"\n",
    "import pandas as pd\n",
    "import numpy as np\n",
    "\n",
    "\n",
    "\"\"\" 기계학습 모델 구축 및 평가 패키지 \"\"\"\n",
    "import statsmodels.api as sm\n",
    "from statsmodels.tsa.holtwinters import ExponentialSmoothing\n",
    "from sklearn.metrics import mean_squared_error, mean_absolute_error, r2_score\n",
    "\n",
    "def mean_absolute_percentage_error(y_true, y_pred):\n",
    "    y_true, y_pred = np.array(y_true).reshape(-1), np.array(y_pred).reshape(-1)\n",
    "    return np.mean(np.abs((y_true-y_pred)/y_true)) * 100\n",
    "\n",
    "\n",
    "\"\"\" 데이터 시각화 패키지 \"\"\"\n",
    "import matplotlib.pyplot as plt\n",
    "%matplotlib inline\n",
    "\n",
    "\n",
    "\"\"\" 경고 숨기기 \"\"\"\n",
    "import warnings\n",
    "warnings.filterwarnings(action='ignore') "
   ]
  },
  {
   "cell_type": "markdown",
   "metadata": {},
   "source": [
    "## **1. 데이터 불러오기 및 전처리**\n",
    " - 분석데이터: Google Keyword Trend (2012년부터 2022년까지 10년간 월단위 '데이터분석' 키워드 관심도 변화량)\n",
    " \n",
    " - https://trends.google.com/trends/explore?date=2012-01-01%202022-01-01&geo=KR&q=%EB%8D%B0%EC%9D%B4%ED%84%B0%EB%B6%84%EC%84%9D"
   ]
  },
  {
   "cell_type": "markdown",
   "metadata": {},
   "source": [
    "#### **1-1. 데이터 개요 파악 및 전처리**"
   ]
  },
  {
   "cell_type": "code",
   "execution_count": null,
   "metadata": {},
   "outputs": [],
   "source": [
    "\"\"\" 데이터 불러오기 \"\"\"\n",
    "\n",
    "\"\"\"\n",
    "데이터 개요\n",
    " - 관측치 개수: 121개\n",
    " - 변수 개수: 1개\n",
    " \n",
    "주요 변수 정보\n",
    " - 카테고리: 모든 카테고리: 월별 '데이터분석'키워드 검색횟수 \n",
    "\"\"\"\n",
    "\n",
    "\"\"\"\n",
    "Q1. 데이터를 불러오기\n",
    " - 로컬경로: data/googletrend_keyword.csv\n",
    " - colab경로: /content/2025-LGElec-Day4/data/googletrend_keyword.csv\n",
    "\"\"\"\n",
    "\n",
    "data = pd.'''Answer'''\n",
    "\n",
    "data"
   ]
  },
  {
   "cell_type": "code",
   "execution_count": null,
   "metadata": {},
   "outputs": [],
   "source": [
    "\"\"\" 간단한 전처리 (1) \"\"\"\n",
    "\n",
    "\"\"\"\n",
    "Q1. 불필요한 1행 제거\n",
    "\"\"\"\n",
    "\n",
    "data = data.rename(columns={'카테고리: 모든 카테고리': 'data_analysis(korea)'}) ### 변수명 변경\n",
    "data = '''Answer''' ### 불필요한 행 제거\n",
    "data"
   ]
  },
  {
   "cell_type": "code",
   "execution_count": null,
   "metadata": {},
   "outputs": [],
   "source": [
    "\"\"\" 간단한 전처리 (2) \"\"\"\n",
    "\n",
    "\"\"\"\n",
    "Q1. 데이터의 index 데이터 타입을 datatime으로 변환\n",
    "\"\"\"\n",
    "\n",
    "data = data.astype(np.int64(data['data_analysis(korea)'])) ### 변수타입 변환\n",
    "data.index = '''Answer''' ### index 타입 변환\n",
    "data"
   ]
  },
  {
   "cell_type": "markdown",
   "metadata": {},
   "source": [
    "#### **1-2. 탐색적 데이터 분석**"
   ]
  },
  {
   "cell_type": "code",
   "execution_count": null,
   "metadata": {},
   "outputs": [],
   "source": [
    "\"\"\" 탐색적 데이터 분석: 데이터 시각화를 통해 시계열 형태 확인 \"\"\"\n",
    "\n",
    "\"\"\"\n",
    "Q1. 변수 data_analysis(korea)의 시간에 따른 추세 시각화\n",
    " - Figure 크기: (15, 6)\n",
    " - x축 및 y축 눈금의 폰트크기 모두 13으로 지정\n",
    " - Figure 제목은 'Data analysis' keyword search amount from Google trend, 폰트크기는 17로 지정\n",
    " - x축 및 y축 레이블의 폰트크기는 모두 15로 지정하며, 레이블 이름은 각각 Year와 keyword search amount로 지정\n",
    "\"\"\"\n",
    "\n",
    "data.plot(figsize='''Answer''') \n",
    "\n",
    "plt.'''Answer'''\n",
    "plt.'''Answer'''\n",
    "\n",
    "plt.title('''Answer''')\n",
    "plt.xlabel('''Answer''')\n",
    "plt.ylabel('''Answer''')\n",
    "plt.tight_layout()\n",
    "plt.show()"
   ]
  },
  {
   "cell_type": "code",
   "execution_count": null,
   "metadata": {},
   "outputs": [],
   "source": [
    "\"\"\" 탐색적 데이터 분석: 시계열 분해 \"\"\"\n",
    "\n",
    "\"\"\"\n",
    "Q1. 시계열 데이터를 [추세(Trend)변동 + 계절(Seasonal)변동 + 우연(Random)변동]으로 분해할 것\n",
    " - 이때, Figure의 크기는 (15, 6)으로 지정할 것\n",
    "\"\"\"\n",
    "\n",
    "decompostion = '''Answer'''\n",
    "\n",
    "fig = decompostion.'''Answer'''\n",
    "fig.set_size_inches(15, 6)\n",
    "plt.show()"
   ]
  },
  {
   "cell_type": "markdown",
   "metadata": {},
   "source": [
    "#### **1-3. 학습/평가 데이터 분할**"
   ]
  },
  {
   "cell_type": "code",
   "execution_count": null,
   "metadata": {},
   "outputs": [],
   "source": [
    "\"\"\" 학습/평가데이터 분할 \"\"\"\n",
    "\n",
    "\"\"\"\n",
    "Q1. 학습데이터와 평가데이터 분할 \n",
    " - 학습: ~ 2019년 12월\n",
    " - 평가: 2020년 1월 ~ \n",
    "\"\"\"\n",
    "\n",
    "train = '''Answer'''\n",
    "test  = '''Answer'''\n",
    "\n",
    "train.shape, test.shape"
   ]
  },
  {
   "cell_type": "markdown",
   "metadata": {},
   "source": [
    "## **2. 모델링**"
   ]
  },
  {
   "cell_type": "markdown",
   "metadata": {},
   "source": [
    "#### **2-1. 구간평균법**"
   ]
  },
  {
   "cell_type": "code",
   "execution_count": null,
   "metadata": {},
   "outputs": [],
   "source": [
    "\"\"\" 구간평균법 모델링 Version 1 \"\"\"\n",
    "\n",
    "\"\"\"\n",
    "Q1: N=7로 구간평균법을 모델링하시오\n",
    " - numpy를 활용하여 직접 Table을 만들며 연산\n",
    " - 기존의 결측행도 모두 표시할 것\n",
    " - 최종적으로는 기존 레이블과 적합된 값을 함께 표현\n",
    "\"\"\"\n",
    "\n",
    "MA_N = 7\n",
    "MA_train_flatten = train.values.flatten()\n",
    "MA_train_pred = '''Answer'''\n",
    "\n",
    "MA_before_value = np.empty((MA_N-1)) \n",
    "MA_before_value[:] = '''Answer''' ### 빈 배열을 np.nan으로 채우기\n",
    "MA_train_pred = np.concatenate('''Answer''') ### 구간평균법으로 구성 불가능한 부분 & 구간평균법으로 구성한 부분 병합\n",
    "\n",
    "MA_train_df = pd.DataFrame(MA_train_pred, index=train.index, columns=[f'MA_{MA_N}'])\n",
    "MA_train_df = pd.concat([train, MA_train_df], axis=1)\n",
    "MA_train_df"
   ]
  },
  {
   "cell_type": "code",
   "execution_count": null,
   "metadata": {},
   "outputs": [],
   "source": [
    "\"\"\" 구간평균법 예측 \"\"\"\n",
    "\n",
    "\"\"\"\n",
    "Q1. 학습데이터에 적합된 구간평균법 모델로 Test 기간을 예측\n",
    " - 최종적으로는 기존 label과 예측값을 함께 표현\n",
    "\"\"\"\n",
    "\n",
    "MA_pred = '''Answer''' ### 예측값 산출\n",
    "MA_test_df = pd.DataFrame(MA_pred, index=test.index, columns=[f'MA_{MA_N}'])\n",
    "MA_test_df = pd.concat([test, MA_test_df], axis=1)\n",
    "MA_test_df"
   ]
  },
  {
   "cell_type": "code",
   "execution_count": null,
   "metadata": {},
   "outputs": [],
   "source": [
    "\"\"\" 구간평균법 평가 \"\"\"\n",
    "\n",
    "\"\"\"\n",
    "Q1. 구간평균법의 성능 평가\n",
    " - MSE, RMSE, MAE, MAPE, R2score를 모두 산출할 것\n",
    "\"\"\"\n",
    "\n",
    "print(f'MSE: {np.round('''Answer'''(test, MA_test_df[f\"MA_{MA_N}\"]), 2)}')\n",
    "print(f'RMSE: {np.round(np.sqrt('''Answer'''(test, MA_test_df[f\"MA_{MA_N}\"])), 2)}')\n",
    "print(f'MAE: {np.round('''Answer'''(test, MA_test_df[f\"MA_{MA_N}\"]), 2)}')\n",
    "print(f'MAPE: {np.round('''Answer'''(test, MA_test_df[f\"MA_{MA_N}\"]), 2)}')\n",
    "print(f'R2 score: {np.round('''Answer'''(test, MA_test_df[f\"MA_{MA_N}\"]), 2)}')"
   ]
  },
  {
   "cell_type": "code",
   "execution_count": null,
   "metadata": {},
   "outputs": [],
   "source": [
    "\"\"\" 구간평균법 시각화 \"\"\"\n",
    "\n",
    "\"\"\"\n",
    "Q1. 기존 값과 구간평균법의 예측값을 함께 시각화\n",
    " - 기존값 및 예측값의 레이블: Raw Dataset, MA (N=7)\n",
    " - train/test가 나뉘는 시점을 빨간 수직 점선으로 표시할 것\n",
    "   * 수직선 y범위: 0~100 / train 및 test 분기점: 2020-01-01\n",
    " - 실제값 / 예측값 / train 및 test 분기점에 대해 범례를 설정할 것 (위치: 좌상단) /// 레이블: Raw Dataset / Prediction (N=7) / Start of Forecast\n",
    " - Figure 제목: Moving Average Results (Train and Test)\n",
    "\"\"\"\n",
    "\n",
    "\"\"\" train 예측값과 test 예측값 종합 \"\"\"\n",
    "MA_total_visualization_df = pd.concat([MA_train_df, MA_test_df], axis=0)\n",
    "\n",
    "\"\"\" 시각화 \"\"\"\n",
    "fig, ax = plt.subplots(figsize=(15, 6))\n",
    "MA_total_visualization_df.'''Answer'''\n",
    "\n",
    "ax.vlines('''Answer''')\n",
    "ax.legend('''Answer''')\n",
    "plt.title('''Answer''')\n",
    "plt.tight_layout()\n",
    "plt.show()"
   ]
  },
  {
   "cell_type": "code",
   "execution_count": null,
   "metadata": {},
   "outputs": [],
   "source": [
    "\"\"\" 구간평균법 모델링 (Simple Version) \"\"\"\n",
    "\n",
    "\"\"\"\n",
    "Q1: N=7로 구간평균법을 모델링하시오\n",
    " - pandas의 rolling함수를 활용\n",
    " - 기존의 결측행도 모두 표시할 것\n",
    "\"\"\"\n",
    "\n",
    "MA_N = 7\n",
    "\n",
    "MA_train_df2 = train.'''Answer'''\n",
    "MA_train_df2.columns = [f'MA_{MA_N}']\n",
    "MA_train_df2"
   ]
  },
  {
   "cell_type": "markdown",
   "metadata": {},
   "source": [
    "#### **2-2. 단순지수평활법 (Simple Exponential Smoothing)**"
   ]
  },
  {
   "cell_type": "code",
   "execution_count": null,
   "metadata": {},
   "outputs": [],
   "source": [
    "\"\"\" 학습데이터로 단순지수평활법 모델링 \"\"\"\n",
    "\n",
    "\"\"\"\n",
    "Q1. 학습데이터로 단순지수평활법을 모델링 및 적합\n",
    " - 직접 numpy와 pandas를 활용하여 표를 만들며 단순지수평활법 구현\n",
    " - Observation, Level, Forecast 값을 모두 보여줄 것\n",
    " - alpha: 0.8\n",
    "\"\"\"\n",
    "\n",
    "\"\"\" Step1. 초기 Table 생성 \"\"\"\n",
    "SES_initial_df = pd.DataFrame([np.nan], index=[0], columns=['data_analysis(korea)']) \n",
    "SES_train_df = pd.concat([SES_initial_df, train], axis=0)\n",
    "\n",
    "SES_train_df['Level'] = np.nan\n",
    "SES_train_df['Forecast'] = np.nan\n",
    "\n",
    "SES_L_0 = '''Answer''' ### 초기 L_0값 연산\n",
    "SES_train_df.loc[0, 'Level'] = SES_L_0\n",
    "\n",
    "\"\"\" Step2. 학습데이터로 단순지수평활법 적합\"\"\"\n",
    "SES_alpha = 0.8 \n",
    "\n",
    "for i in range(len(SES_train_df)):\n",
    "    \n",
    "    if i == 0: \n",
    "        continue\n",
    "    \n",
    "    SES_current_time = SES_train_df.index[i] \n",
    "    SES_previous_time = SES_train_df.index[i-1] \n",
    "    \n",
    "    SES_x = '''Answer''' ### 현재시점 observation\n",
    "    SES_L_prev = '''Answer''' ### 이전시점 level\n",
    "    SES_train_df.loc[SES_current_time, 'Level'] = '''Answer''' ### 단순지수평활법 연산\n",
    "    \n",
    "SES_train_df"
   ]
  },
  {
   "cell_type": "code",
   "execution_count": null,
   "metadata": {},
   "outputs": [],
   "source": [
    "\"\"\" 단순지수평활법 Test기간 예측 \"\"\"\n",
    "\n",
    "\"\"\"\n",
    "Q1. 단순지수평활법으로 Test 기간 예측\n",
    "\"\"\"\n",
    "\n",
    "SES_L_pred = '''Answer'''\n",
    "SES_test_pred = '''Answer''' ### 단순지수평활법 예측값 산출\n",
    "\n",
    "SES_test_df = pd.DataFrame(data=SES_test_pred, \n",
    "                             index=test.index, \n",
    "                             columns=[f'SES_{SES_alpha}'])\n",
    "\n",
    "SES_test_df"
   ]
  },
  {
   "cell_type": "code",
   "execution_count": null,
   "metadata": {},
   "outputs": [],
   "source": [
    "\"\"\" 단순지수평활법 평가 \"\"\"\n",
    "\n",
    "\"\"\"\n",
    "Q1. 단순지수평활법의 성능 평가\n",
    " - MSE, RMSE, MAE, MAPE, R2score를 모두 산출할 것\n",
    "\"\"\"\n",
    "\n",
    "print(f'MSE: {np.round('''Answer'''(test, SES_test_df[f\"SES_{SES_alpha}\"]), 2)}')\n",
    "print(f'RMSE: {np.round(np.sqrt('''Answer'''(test, SES_test_df[f\"SES_{SES_alpha}\"])), 2)}')\n",
    "print(f'MAE: {np.round('''Answer'''(test, SES_test_df[f\"SES_{SES_alpha}\"]), 2)}')\n",
    "print(f'MAPE: {np.round('''Answer'''(test, SES_test_df[f\"SES_{SES_alpha}\"]), 2)}')\n",
    "print(f'R2 score: {np.round('''Answer'''(test, SES_test_df[f\"SES_{SES_alpha}\"]), 2)}')"
   ]
  },
  {
   "cell_type": "code",
   "execution_count": null,
   "metadata": {},
   "outputs": [],
   "source": [
    "\"\"\" 단순지수평활법 시각화 \"\"\"\n",
    "\n",
    "\"\"\"\n",
    "Q1. 기존 값과 단순지수평활법의 예측값을 함께 시각화\n",
    "  - train/test가 나뉘는 시점을 빨간 수직 점선으로 표시할 것\n",
    "   * 수직선 y범위: 0~100 / train 및 test 분기점: 2020-01-01\n",
    " - 실제값, 예측값, train/test가 나뉘는 시점에 대해 범례를 설정할 것 (위치: 좌상단) / 레이블: Raw Dataset / Prediction (alpha=0.8) / Start of Forecast\n",
    " - Figure 제목: Exponential Moving Average Results\n",
    "\"\"\"\n",
    "\n",
    "\"\"\" train 예측값과 test 예측값 종합 \"\"\"\n",
    "SES_train_visualization_df = SES_train_df[['Level']]\n",
    "SES_train_visualization_df = SES_train_visualization_df.rename(columns={'Level':f'SES_{SES_alpha}'})\n",
    "\n",
    "SES_test_visualization_df = SES_test_df.copy()\n",
    "SES_total_visualization_df = pd.concat([SES_train_visualization_df, SES_test_visualization_df], axis=0).iloc[1:]\n",
    "SES_total_visualization_df.index = pd.to_datetime(SES_total_visualization_df.index)\n",
    "\n",
    "\"\"\" 시각화 \"\"\"\n",
    "fig, ax = plt.subplots(figsize=(15, 6))\n",
    "data.'''Answer''' ### 기존 전체 데이터 시각화\n",
    "SES_total_visualization_df.plot('''Answer''') ### 단순지수평활법 예측값 시각화\n",
    "\n",
    "ax.vlines('''Answer''') ### train/test 분리 시점 시각화\n",
    "ax.legend('''Answer''')\n",
    "plt.title('''Answer''')\n",
    "plt.tight_layout()\n",
    "plt.show()"
   ]
  },
  {
   "cell_type": "code",
   "execution_count": null,
   "metadata": {},
   "outputs": [],
   "source": [
    "\"\"\" 학습데이터로 단순지수평활법 모델링 (Simple Version) \"\"\"\n",
    "\n",
    "\"\"\" \n",
    "Q1. pandas의 ewm함수를 활용하여 구현\n",
    " - 정규화는 수행하지 않음\n",
    "\"\"\"\n",
    "\n",
    "initial_df = pd.DataFrame([SES_L_0], index=[0], columns=['data_analysis(korea)'])\n",
    "SES_train_df2 = pd.concat([initial_df, train], axis=0)\n",
    "SES_train_df2 = '''Answer''' ### 단순지수평활법 모델링\n",
    "SES_train_df2"
   ]
  },
  {
   "cell_type": "markdown",
   "metadata": {},
   "source": [
    "#### **2-3. 이중지수평활법**"
   ]
  },
  {
   "cell_type": "code",
   "execution_count": null,
   "metadata": {},
   "outputs": [],
   "source": [
    "\"\"\" 이중지수평활법의 초기값 산출 \"\"\"\n",
    "\n",
    "\"\"\"\n",
    "Q1. 이중지수평활법의 Level과 Trend의 초기값을 산출\n",
    " - statsmodels 패키지를 활용\n",
    "\"\"\"\n",
    "\n",
    "DES_reg = train.reset_index()\n",
    "DES_reg_x = '''Answer'''\n",
    "DES_reg_y = '''Answer'''\n",
    "\n",
    "DES_reg_x = '''Answer''' ### 회귀적합을 위한 상수항 추가\n",
    "DES_reg_model = '''Answer''' ### 회귀모형 정의\n",
    "DES_results = '''Answer''' ### 회귀모형 파라미터 산출\n",
    "\n",
    "DES_L_0, DES_B_0 = DES_results.params\n",
    "print(f'Level의 초기값(β0): {DES_L_0} // Trend의 초기값(β1): {DES_B_0} \\n')"
   ]
  },
  {
   "cell_type": "code",
   "execution_count": null,
   "metadata": {},
   "outputs": [],
   "source": [
    "\"\"\" 학습데이터로 단순지수평활법 모델링 \"\"\"\n",
    "\n",
    "\"\"\"\n",
    "Q1. 학습데이터로 단순지수평활법을 모델링 및 적합\n",
    " - 직접 numpy와 pandas를 활용하여 표를 만들며 이중지수평활법 구현\n",
    " - Observation, Level, Trend, Forecast 값을 모두 보여줄 것\n",
    " - alpha: 0.2 / DES_beta: 0.15\n",
    "\"\"\"\n",
    "\n",
    "\"\"\" Step1. 초기 Table 생성\"\"\"\n",
    "DES_initial_df = pd.DataFrame(np.zeros(1), index=[0], columns=['data_analysis(korea)'])\n",
    "DES_train_df = pd.concat([DES_initial_df, train], axis=0)\n",
    "\n",
    "DES_train_df['Level'] = np.nan\n",
    "DES_train_df['Trend'] = np.nan\n",
    "DES_train_df['Forecast'] = np.nan\n",
    "\n",
    "DES_train_df.loc[0, 'Level'] = '''Answer'''\n",
    "DES_train_df.loc[0, 'Trend'] = '''Answer'''\n",
    "\n",
    "\n",
    "\"\"\" Step2. 학습데이터로 이중지수평활법 모델링\"\"\"\n",
    "DES_alpha = 0.2 \n",
    "DES_beta = 0.15 \n",
    "\n",
    "for i in range(len(DES_train_df)):\n",
    "    \n",
    "    if i == 0: \n",
    "        continue\n",
    "    \n",
    "    DES_current_time = DES_train_df.index[i] \n",
    "    DES_previous_time = DES_train_df.index[i-1] \n",
    "\n",
    "    DES_x = '''Answer'''\n",
    "    DES_L_prev = '''Answer'''\n",
    "    DES_T_prev = '''Answer'''\n",
    "    \n",
    "    DES_train_df.loc[DES_current_time, 'Level'] = '''Answer''' ### Level에 이중지수평활법 적용 \n",
    "    DES_train_df.loc[DES_current_time, 'Trend'] = '''Answer''' ### Trend에 이중지수평활법 적용 \n",
    "\n",
    "DES_train_df\n",
    "    "
   ]
  },
  {
   "cell_type": "code",
   "execution_count": null,
   "metadata": {},
   "outputs": [],
   "source": [
    "\"\"\" 이중지수평활법 Test기간 예측 \"\"\"\n",
    "\n",
    "\"\"\"\n",
    "Q1. 이중지수평활법으로 Test 기간 예측\n",
    "\"\"\"\n",
    "\n",
    "DES_L_Pred = DES_train_df.iloc[-1]['Level']\n",
    "DES_T_Pred = DES_train_df.iloc[-1]['Trend']\n",
    "DES_test_pred = '''Answer''' ### 예측값 산출\n",
    "\n",
    "DES_test_df = pd.DataFrame(data=DES_test_pred, \n",
    "                             index=test.index, \n",
    "                             columns=['DES'])\n",
    "DES_test_df"
   ]
  },
  {
   "cell_type": "code",
   "execution_count": null,
   "metadata": {},
   "outputs": [],
   "source": [
    "\"\"\" 이중지수평활법 평가 \"\"\"\n",
    "\n",
    "\"\"\"\n",
    "Q1. 이중지수평활법의 성능 평가\n",
    " - MSE, RMSE, MAE, MAPE, R2score를 모두 산출할 것\n",
    "\"\"\"\n",
    "\n",
    "print(f'MSE: {np.round('''Answer'''(test, DES_test_df[\"DES\"]), 2)}')\n",
    "print(f'RMSE: {np.round(np.sqrt('''Answer'''(test, DES_test_df[\"DES\"])), 2)}')\n",
    "print(f'MAE: {np.round('''Answer'''(test, DES_test_df[\"DES\"]), 2)}')\n",
    "print(f'MAPE: {np.round('''Answer'''(test, DES_test_df[\"DES\"]), 2)}')\n",
    "print(f'R2 score: {np.round('''Answer'''(test, DES_test_df[\"DES\"]), 2)}')"
   ]
  },
  {
   "cell_type": "code",
   "execution_count": null,
   "metadata": {},
   "outputs": [],
   "source": [
    "\"\"\" 이중지수평활법 시각화 \"\"\"\n",
    "\n",
    "\"\"\"\n",
    "Q1. 기존 값과 이중지수평활법의 예측값을 함께 시각화\n",
    " - Figure 크기: (15, 6)\n",
    " - train/test가 나뉘는 시점을 빨간 수직 점선으로 표시할 것\n",
    "   * 수직선 y범위: 0~100 / train 및 test 분기점: 2020-01-01\n",
    " - 실제값 / 예측값 / train 및 test 분기점에 대해 범례를 설정할 것 (위치: 좌상단) --> Raw Dataset / DEMA (alpha={DES_alpha}, beta={DES_beta} / Start of Forecast\n",
    " - Figure 제목: Double Exponential Moving Average Results\n",
    "\"\"\"\n",
    "\n",
    "\"\"\" train 예측값과 test 예측값 종합 \"\"\"\n",
    "DES_train_visualization_df = pd.DataFrame(DES_train_df.iloc[1:]['Level']) \n",
    "DES_train_visualization_df.columns = ['DES']\n",
    "DES_test_visualization_df = DES_test_df.copy()\n",
    "\n",
    "DES_total_visualization_df = pd.concat([DES_train_visualization_df, DES_test_visualization_df], axis=0).iloc[1:]\n",
    "DES_total_visualization_df.index = pd.to_datetime(DES_total_visualization_df.index)\n",
    "\n",
    "\"\"\" 시각화 \"\"\"\n",
    "fig, ax = plt.subplots(figsize=(15, 6))\n",
    "data.'''Answer''' ### 기존 전체 데이터 시각화\n",
    "DES_total_visualization_df.plot('''Answer''') ### 이중지수평활법 예측값 시각화\n",
    "\n",
    "ax.vlines('''Answer''') ### train/test 분리 시점 시각화\n",
    "ax.legend('''Answer''')\n",
    "plt.title('''Answer''')\n",
    "plt.tight_layout()\n",
    "plt.show()"
   ]
  },
  {
   "cell_type": "markdown",
   "metadata": {},
   "source": [
    "#### **2-4. 홀트-윈터 지수평활법 (Addictive)**"
   ]
  },
  {
   "cell_type": "code",
   "execution_count": null,
   "metadata": {},
   "outputs": [],
   "source": [
    "\"\"\" Addictive 홀트-윈터 지수평활법 모델링 \"\"\"\n",
    "\n",
    "\"\"\"\n",
    "Q1. 자동 최적화 방식으로 Addictive 홀트-윈터 지수평활법 모델 적합\n",
    " - ExponentialSmoothing 함수 활용\n",
    "\"\"\"\n",
    "\n",
    "HW_ADD_model = '''Answer''' ### 홀트-윈터 지수평활법 모델링\n",
    "HW_ADD_model.summary()"
   ]
  },
  {
   "cell_type": "code",
   "execution_count": null,
   "metadata": {},
   "outputs": [],
   "source": [
    "\"\"\" Addictive 홀트-윈터 지수평활법 Train 및 Test 기간 예측 \"\"\"\n",
    "\n",
    "\"\"\"\n",
    "Q1. Addictive 홀트-윈터 지수평활법으로 Train 및 Test 기간 예측\n",
    "\"\"\"\n",
    "\n",
    "HW_ADD_train_pred = HW_ADD_model.'''Answer''' ### train 기간 적합 결과\n",
    "HW_ADD_test_pred = HW_ADD_model.'''Answer''' ### test 기간 예측 결과\n",
    "\n",
    "print('Additive Holt-Winter Exponential Smoothing Train Results')\n",
    "print(HW_ADD_train_pred)\n",
    "print('-'*30)\n",
    "print('Additive Holt-Winter Smoothing Test results')\n",
    "print(HW_ADD_test_pred)"
   ]
  },
  {
   "cell_type": "code",
   "execution_count": null,
   "metadata": {},
   "outputs": [],
   "source": [
    "\"\"\" Addictive 홀트-윈터 지수평활법 평가 \"\"\"\n",
    "\n",
    "\"\"\"\n",
    "Q1. Addictive 홀트-윈터 지수평활법의 성능 평가\n",
    " - MSE, RMSE, MAE, MAPE, R2score를 모두 산출할 것\n",
    "\"\"\"\n",
    "\n",
    "print(f'MSE: {np.round('''Answer'''(test, HW_ADD_test_pred), 2)}')\n",
    "print(f'RMSE: {np.round(np.sqrt('''Answer'''(test, HW_ADD_test_pred)), 2)}')\n",
    "print(f'MAE: {np.round('''Answer'''(test, HW_ADD_test_pred), 2)}')\n",
    "print(f'MAPE: {np.round('''Answer'''(test, HW_ADD_test_pred), 2)}')\n",
    "print(f'R2 score: {np.round('''Answer'''(test, HW_ADD_test_pred), 2)}')"
   ]
  },
  {
   "cell_type": "code",
   "execution_count": null,
   "metadata": {},
   "outputs": [],
   "source": [
    "\"\"\" Addictive 홀트-윈터 지수평활법 시각화 \"\"\"\n",
    "\n",
    "\"\"\"\n",
    "Q1. 기존 값과 Addictive 홀트-윈터 지수평활법의 예측값을 함께 시각화\n",
    " - Figure 크기: (15, 6)\n",
    " - train/test가 나뉘는 시점을 빨간 수직 점선으로 표시할 것 \n",
    "   * 수직선 y범위: 0~100 / train 및 test 분기점: 2020-01-01\n",
    " - 실제값 / 예측값 / train 및 test 분기점에 대해 범례를 설정할 것 (위치: 좌상단) --> Raw Dataset / Prediction (Holt-Winter Additive) / Start of Forecast\n",
    " - Figure 제목: Addictive Holt-Winter Exponential Moving Average Results\n",
    "\"\"\"\n",
    "\n",
    "\"\"\" train 예측값과 test 예측값 종합 \"\"\"\n",
    "HW_ADD_train_visualization_df = pd.DataFrame(HW_ADD_train_pred, columns=['HW_ADD'])\n",
    "HW_ADD_test_visualization_df = pd.DataFrame(HW_ADD_test_pred, index=test.index, columns=['HW_ADD'])\n",
    "HW_ADD_total_visualization_df = pd.concat([HW_ADD_train_visualization_df, HW_ADD_test_visualization_df], axis=0)\n",
    "\n",
    "\"\"\" 시각화 \"\"\"\n",
    "fig, ax = plt.subplots(figsize=(15, 6))\n",
    "data.'''Answer''' ### 기존 전체 데이터 시각화\n",
    "HW_ADD_total_visualization_df.plot('''Answer''') ### Addictive 홀트-윈터 지수평활법 예측값 시각화\n",
    "\n",
    "ax.vlines('''Answer''') ### train/test 분리 시점 시각화\n",
    "ax.legend('''Answer''')\n",
    "plt.title('''Answer''')\n",
    "plt.tight_layout()\n",
    "plt.show()"
   ]
  },
  {
   "cell_type": "markdown",
   "metadata": {},
   "source": [
    "# **EOD**"
   ]
  }
 ],
 "metadata": {
  "kernelspec": {
   "display_name": "Python 3",
   "language": "python",
   "name": "python3"
  },
  "language_info": {
   "codemirror_mode": {
    "name": "ipython",
    "version": 3
   },
   "file_extension": ".py",
   "mimetype": "text/x-python",
   "name": "python",
   "nbconvert_exporter": "python",
   "pygments_lexer": "ipython3",
   "version": "3.8.10"
  },
  "toc": {
   "base_numbering": 1,
   "nav_menu": {},
   "number_sections": true,
   "sideBar": true,
   "skip_h1_title": false,
   "title_cell": "Table of Contents",
   "title_sidebar": "Contents",
   "toc_cell": false,
   "toc_position": {
    "height": "calc(100% - 180px)",
    "left": "10px",
    "top": "150px",
    "width": "307.2px"
   },
   "toc_section_display": true,
   "toc_window_display": true
  },
  "vscode": {
   "interpreter": {
    "hash": "e7370f93d1d0cde622a1f8e1c04877d8463912d04d973331ad4851f04de6915a"
   }
  }
 },
 "nbformat": 4,
 "nbformat_minor": 2
}
